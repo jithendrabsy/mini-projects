{
 "cells": [
  {
   "cell_type": "code",
   "execution_count": 1,
   "metadata": {},
   "outputs": [],
   "source": [
    "##importing a few general use case libraries\n",
    "import numpy as np\n",
    "import pandas as pd\n",
    "import matplotlib.pyplot as plt\n",
    "import seaborn as sns\n",
    "\n",
    "from sklearn.model_selection import StratifiedShuffleSplit\n",
    "from sklearn.pipeline import Pipeline\n",
    "from sklearn.preprocessing import StandardScaler, OneHotEncoder\n",
    "from sklearn.compose import ColumnTransformer\n",
    "from sklearn.metrics import mean_squared_error\n",
    "\n",
    "import warnings\n",
    "warnings.filterwarnings('ignore')"
   ]
  },
  {
   "cell_type": "code",
   "execution_count": 2,
   "metadata": {},
   "outputs": [],
   "source": [
    "df = pd.read_csv(\"/home/jithendra/Documents/projects/zzz.../graduate_admission_prediction/data/Admission_Predict_Ver1.1.csv\")\n",
    "\n",
    "data = df.copy()\n",
    "\n",
    "data = data.drop('Serial No.',axis=1)\n",
    "split = StratifiedShuffleSplit(n_splits=1, test_size=0.25, random_state=42)\n",
    "for train_index, test_index in split.split(data, data[\"University Rating\"]):\n",
    "    train = data.loc[train_index]\n",
    "    test = data.loc[test_index]"
   ]
  },
  {
   "cell_type": "code",
   "execution_count": 3,
   "metadata": {},
   "outputs": [],
   "source": [
    "# seperating the target variable\n",
    "X_train = train.drop('Chance of Admit ',axis=1)\n",
    "y_train = train['Chance of Admit '].copy()\n",
    "X_test = test.drop('Chance of Admit ',axis=1)\n",
    "y_test = test['Chance of Admit '].copy()"
   ]
  },
  {
   "cell_type": "code",
   "execution_count": 4,
   "metadata": {},
   "outputs": [
    {
     "name": "stdout",
     "output_type": "stream",
     "text": [
      "Shape of X_train : (375, 7)\n",
      "Shape of X_test : (125, 7)\n",
      "Shape of y_train : (375,)\n",
      "Shape of y_test : (125,)\n"
     ]
    }
   ],
   "source": [
    "print(\"Shape of X_train :\", X_train.shape)\n",
    "print(\"Shape of X_test :\", X_test.shape)\n",
    "print(\"Shape of y_train :\", y_train.shape)\n",
    "print(\"Shape of y_test :\", y_test.shape)"
   ]
  },
  {
   "cell_type": "code",
   "execution_count": 5,
   "metadata": {},
   "outputs": [],
   "source": [
    "from sklearn.preprocessing import StandardScaler\n",
    "\n",
    "sc = StandardScaler()\n",
    "X_train_scaled = sc.fit_transform(X_train)\n",
    "X_test_scaled = sc.transform(X_test)"
   ]
  },
  {
   "cell_type": "markdown",
   "metadata": {},
   "source": [
    "### Selecting and Training Models\n",
    "\n",
    "   - Linear Regression\n",
    "   - Decision Tree\n",
    "   - Random Forest\n",
    "   - SVM regressor"
   ]
  },
  {
   "cell_type": "markdown",
   "metadata": {},
   "source": [
    "### Linear Regression"
   ]
  },
  {
   "cell_type": "code",
   "execution_count": 6,
   "metadata": {},
   "outputs": [
    {
     "data": {
      "text/plain": [
       "LinearRegression()"
      ]
     },
     "execution_count": 6,
     "metadata": {},
     "output_type": "execute_result"
    }
   ],
   "source": [
    "from sklearn.linear_model import LinearRegression\n",
    "lr = LinearRegression()\n",
    "lr.fit(X_train,y_train)"
   ]
  },
  {
   "cell_type": "code",
   "execution_count": 7,
   "metadata": {},
   "outputs": [
    {
     "name": "stdout",
     "output_type": "stream",
     "text": [
      "Prediction of samples:  [0.95997801 0.74570894 0.77200035 0.7636635  0.64410862]\n"
     ]
    }
   ],
   "source": [
    "sample_data = X_train.iloc[:5]\n",
    "sample_labels = y_train.iloc[:5]\n",
    "\n",
    "print(\"Prediction of samples: \", lr.predict(sample_data))"
   ]
  },
  {
   "cell_type": "code",
   "execution_count": 8,
   "metadata": {},
   "outputs": [
    {
     "name": "stdout",
     "output_type": "stream",
     "text": [
      "Actual labels:  [0.94, 0.78, 0.82, 0.78, 0.54]\n"
     ]
    }
   ],
   "source": [
    "print(\"Actual labels: \", list(sample_labels))"
   ]
  },
  {
   "cell_type": "code",
   "execution_count": 9,
   "metadata": {},
   "outputs": [
    {
     "name": "stdout",
     "output_type": "stream",
     "text": [
      "Linear Regression MSE (train):  0.0036917944023019266\n",
      "Linear Regression RMSE (train):  0.06076013826763338\n"
     ]
    }
   ],
   "source": [
    "predictions = lr.predict(X_train)\n",
    "print(\"Linear Regression MSE (train): \", mean_squared_error(y_train,predictions))\n",
    "print(\"Linear Regression RMSE (train): \", np.sqrt(mean_squared_error(y_train,predictions)))"
   ]
  },
  {
   "cell_type": "markdown",
   "metadata": {},
   "source": [
    "### Decision Tree"
   ]
  },
  {
   "cell_type": "code",
   "execution_count": 10,
   "metadata": {},
   "outputs": [
    {
     "data": {
      "text/plain": [
       "DecisionTreeRegressor()"
      ]
     },
     "execution_count": 10,
     "metadata": {},
     "output_type": "execute_result"
    }
   ],
   "source": [
    "from sklearn.tree import DecisionTreeRegressor\n",
    "\n",
    "tree_reg = DecisionTreeRegressor()\n",
    "tree_reg.fit(X_train,y_train)"
   ]
  },
  {
   "cell_type": "code",
   "execution_count": 11,
   "metadata": {},
   "outputs": [
    {
     "name": "stdout",
     "output_type": "stream",
     "text": [
      "Decision Tree MSE(train):  0.0\n",
      "Decision Tree RMSE(train):  0.0\n"
     ]
    }
   ],
   "source": [
    "predictions = tree_reg.predict(X_train)\n",
    "print(\"Decision Tree MSE(train): \", mean_squared_error(y_train,predictions))\n",
    "print(\"Decision Tree RMSE(train): \", np.sqrt(mean_squared_error(y_train,predictions)))"
   ]
  },
  {
   "cell_type": "markdown",
   "metadata": {},
   "source": [
    "#### oh crap! The model is overfitted on the data!"
   ]
  },
  {
   "cell_type": "markdown",
   "metadata": {},
   "source": [
    "#### Cross Validation "
   ]
  },
  {
   "cell_type": "code",
   "execution_count": 12,
   "metadata": {},
   "outputs": [],
   "source": [
    "from sklearn.model_selection import KFold\n",
    "from sklearn.model_selection import cross_val_score\n",
    "\n",
    "num_folds = 10\n",
    "seed = 7\n",
    "kfold = KFold(n_splits=num_folds, random_state=seed)"
   ]
  },
  {
   "cell_type": "code",
   "execution_count": 13,
   "metadata": {},
   "outputs": [
    {
     "data": {
      "text/plain": [
       "array([0.07481556, 0.09020445, 0.08471314, 0.09071355, 0.07520148,\n",
       "       0.08213371, 0.09493953, 0.08058905, 0.10947047, 0.11980841])"
      ]
     },
     "execution_count": 13,
     "metadata": {},
     "output_type": "execute_result"
    }
   ],
   "source": [
    "scores = cross_val_score(tree_reg, X_train, y_train, scoring='neg_mean_squared_error', cv=kfold)\n",
    "tree_reg_rmse_scores = np.sqrt(-scores)\n",
    "\n",
    "tree_reg_rmse_scores"
   ]
  },
  {
   "cell_type": "code",
   "execution_count": 14,
   "metadata": {},
   "outputs": [
    {
     "name": "stdout",
     "output_type": "stream",
     "text": [
      "Decision tree RMSE cross_val score:  0.0902589332922948\n"
     ]
    }
   ],
   "source": [
    "print(\"Decision tree RMSE cross_val score: \", tree_reg_rmse_scores.mean())"
   ]
  },
  {
   "cell_type": "code",
   "execution_count": 15,
   "metadata": {},
   "outputs": [
    {
     "name": "stdout",
     "output_type": "stream",
     "text": [
      "Linear Regression RMSE cross_val score:  0.06178665338867775\n"
     ]
    }
   ],
   "source": [
    "scores = cross_val_score(lr, X_train, y_train, scoring='neg_mean_squared_error', cv=kfold)\n",
    "lr_rmse_scores = np.sqrt(-scores)\n",
    "print(\"Linear Regression RMSE cross_val score: \", lr_rmse_scores.mean())"
   ]
  },
  {
   "cell_type": "markdown",
   "metadata": {},
   "source": [
    "### Random Forest"
   ]
  },
  {
   "cell_type": "code",
   "execution_count": 16,
   "metadata": {},
   "outputs": [
    {
     "data": {
      "text/plain": [
       "RandomForestRegressor()"
      ]
     },
     "execution_count": 16,
     "metadata": {},
     "output_type": "execute_result"
    }
   ],
   "source": [
    "from sklearn.ensemble import RandomForestRegressor\n",
    "\n",
    "rf_reg = RandomForestRegressor()\n",
    "rf_reg.fit(X_train,y_train)"
   ]
  },
  {
   "cell_type": "code",
   "execution_count": 17,
   "metadata": {},
   "outputs": [
    {
     "name": "stdout",
     "output_type": "stream",
     "text": [
      "Random Forest RMSE cross_val score:  0.06777006195140582\n"
     ]
    }
   ],
   "source": [
    "scores = cross_val_score(rf_reg, X_train, y_train, scoring='neg_mean_squared_error', cv=kfold)\n",
    "rf_reg_rmse_scores = np.sqrt(-scores)\n",
    "print(\"Random Forest RMSE cross_val score: \", rf_reg_rmse_scores.mean())"
   ]
  },
  {
   "cell_type": "markdown",
   "metadata": {},
   "source": [
    "### Ridge Regression"
   ]
  },
  {
   "cell_type": "code",
   "execution_count": 18,
   "metadata": {},
   "outputs": [
    {
     "data": {
      "text/plain": [
       "Ridge()"
      ]
     },
     "execution_count": 18,
     "metadata": {},
     "output_type": "execute_result"
    }
   ],
   "source": [
    "from sklearn.linear_model import Ridge\n",
    "\n",
    "ridge = Ridge()\n",
    "ridge.fit(X_train,y_train)"
   ]
  },
  {
   "cell_type": "code",
   "execution_count": 19,
   "metadata": {},
   "outputs": [
    {
     "name": "stdout",
     "output_type": "stream",
     "text": [
      "Ridge Regression RMSE cross_val score:  0.06179380166364383\n"
     ]
    }
   ],
   "source": [
    "scores = cross_val_score(ridge, X_train, y_train, scoring='neg_mean_squared_error', cv=kfold)\n",
    "ridge_rmse_scores = np.sqrt(-scores)\n",
    "print(\"Ridge Regression RMSE cross_val score: \", ridge_rmse_scores.mean())"
   ]
  },
  {
   "cell_type": "markdown",
   "metadata": {},
   "source": [
    "### Comparing all the models at once on the test dataset"
   ]
  },
  {
   "cell_type": "code",
   "execution_count": 20,
   "metadata": {},
   "outputs": [],
   "source": [
    "model_=[]"
   ]
  },
  {
   "cell_type": "code",
   "execution_count": 21,
   "metadata": {},
   "outputs": [],
   "source": [
    "from sklearn.linear_model import LinearRegression\n",
    "from sklearn.linear_model import Ridge\n",
    "from sklearn.linear_model import Lasso\n",
    "from sklearn.linear_model import ElasticNet\n",
    "from sklearn.neighbors import KNeighborsRegressor\n",
    "from sklearn.tree import DecisionTreeRegressor\n",
    "from sklearn.svm import SVR\n",
    "from sklearn.ensemble import RandomForestRegressor"
   ]
  },
  {
   "cell_type": "code",
   "execution_count": 22,
   "metadata": {},
   "outputs": [
    {
     "name": "stdout",
     "output_type": "stream",
     "text": [
      "Linear Regression RMSE:  0.0563917121177774\n",
      "Ridge Regression RMSE:  0.05637897431746669\n",
      "Lasso Regression RMSE:  0.1406270023067326\n",
      "Elastic Net RMSE:  0.1406270023067326\n",
      "KNN RMSE:  0.06640361435946088\n",
      "Decision Tree RMSE:  0.07879086241436883\n",
      "SVM RMSE:  0.0703394434038292\n",
      "Random Forest RMSE:  0.05769113554091305\n"
     ]
    }
   ],
   "source": [
    "lr = LinearRegression()  \n",
    "lr.fit(X_train_scaled,y_train)\n",
    "y_pred = lr.predict(X_test_scaled)\n",
    "print(\"Linear Regression RMSE: \", np.sqrt(mean_squared_error(y_test,y_pred)))\n",
    "model_.append(['LinearRegression', np.sqrt(mean_squared_error(y_test,y_pred))])\n",
    "\n",
    "ridge = Ridge()  \n",
    "ridge.fit(X_train_scaled,y_train)\n",
    "y_pred = ridge.predict(X_test_scaled)\n",
    "print(\"Ridge Regression RMSE: \", np.sqrt(mean_squared_error(y_test,y_pred)))\n",
    "model_.append(['RidgeRegression', np.sqrt(mean_squared_error(y_test,y_pred))])\n",
    "\n",
    "lasso = Lasso()  \n",
    "lasso.fit(X_train_scaled,y_train)\n",
    "y_pred = lasso.predict(X_test_scaled)\n",
    "print(\"Lasso Regression RMSE: \", np.sqrt(mean_squared_error(y_test,y_pred)))\n",
    "model_.append(['LassoRegression', np.sqrt(mean_squared_error(y_test,y_pred))])\n",
    "\n",
    "en = ElasticNet()  \n",
    "en.fit(X_train_scaled,y_train)\n",
    "y_pred = en.predict(X_test_scaled)\n",
    "print(\"Elastic Net RMSE: \", np.sqrt(mean_squared_error(y_test,y_pred)))\n",
    "model_.append(['ElasticNet', np.sqrt(mean_squared_error(y_test,y_pred))])\n",
    "\n",
    "knn = KNeighborsRegressor()  \n",
    "knn.fit(X_train_scaled,y_train)\n",
    "y_pred = knn.predict(X_test_scaled)\n",
    "print(\"KNN RMSE: \", np.sqrt(mean_squared_error(y_test,y_pred)))\n",
    "model_.append(['KNN', np.sqrt(mean_squared_error(y_test,y_pred))])\n",
    "\n",
    "tree_reg = DecisionTreeRegressor()\n",
    "tree_reg.fit(X_train_scaled,y_train)\n",
    "y_pred = tree_reg.predict(X_test_scaled)\n",
    "print(\"Decision Tree RMSE: \", np.sqrt(mean_squared_error(y_test,y_pred)))\n",
    "model_.append(['Decision Tree', np.sqrt(mean_squared_error(y_test,y_pred))])\n",
    "\n",
    "svm = SVR()  \n",
    "svm.fit(X_train_scaled,y_train)\n",
    "y_pred = svm.predict(X_test_scaled)\n",
    "print(\"SVM RMSE: \", np.sqrt(mean_squared_error(y_test,y_pred)))\n",
    "model_.append(['SVM', np.sqrt(mean_squared_error(y_test,y_pred))])\n",
    "\n",
    "rf_reg = RandomForestRegressor()\n",
    "rf_reg.fit(X_train_scaled,y_train)\n",
    "y_pred = rf_reg.predict(X_test_scaled)\n",
    "print(\"Random Forest RMSE: \", np.sqrt(mean_squared_error(y_test,y_pred)))\n",
    "model_.append(['RandomForest', np.sqrt(mean_squared_error(y_test,y_pred))])"
   ]
  },
  {
   "cell_type": "code",
   "execution_count": 23,
   "metadata": {},
   "outputs": [
    {
     "data": {
      "text/html": [
       "<div>\n",
       "<style scoped>\n",
       "    .dataframe tbody tr th:only-of-type {\n",
       "        vertical-align: middle;\n",
       "    }\n",
       "\n",
       "    .dataframe tbody tr th {\n",
       "        vertical-align: top;\n",
       "    }\n",
       "\n",
       "    .dataframe thead th {\n",
       "        text-align: right;\n",
       "    }\n",
       "</style>\n",
       "<table border=\"1\" class=\"dataframe\">\n",
       "  <thead>\n",
       "    <tr style=\"text-align: right;\">\n",
       "      <th></th>\n",
       "      <th>index</th>\n",
       "      <th>Model</th>\n",
       "      <th>RMSE</th>\n",
       "    </tr>\n",
       "  </thead>\n",
       "  <tbody>\n",
       "    <tr>\n",
       "      <th>0</th>\n",
       "      <td>1</td>\n",
       "      <td>RidgeRegression</td>\n",
       "      <td>0.056379</td>\n",
       "    </tr>\n",
       "    <tr>\n",
       "      <th>1</th>\n",
       "      <td>0</td>\n",
       "      <td>LinearRegression</td>\n",
       "      <td>0.056392</td>\n",
       "    </tr>\n",
       "    <tr>\n",
       "      <th>2</th>\n",
       "      <td>7</td>\n",
       "      <td>RandomForest</td>\n",
       "      <td>0.057691</td>\n",
       "    </tr>\n",
       "    <tr>\n",
       "      <th>3</th>\n",
       "      <td>4</td>\n",
       "      <td>KNN</td>\n",
       "      <td>0.066404</td>\n",
       "    </tr>\n",
       "    <tr>\n",
       "      <th>4</th>\n",
       "      <td>6</td>\n",
       "      <td>SVM</td>\n",
       "      <td>0.070339</td>\n",
       "    </tr>\n",
       "    <tr>\n",
       "      <th>5</th>\n",
       "      <td>5</td>\n",
       "      <td>Decision Tree</td>\n",
       "      <td>0.078791</td>\n",
       "    </tr>\n",
       "    <tr>\n",
       "      <th>6</th>\n",
       "      <td>2</td>\n",
       "      <td>LassoRegression</td>\n",
       "      <td>0.140627</td>\n",
       "    </tr>\n",
       "    <tr>\n",
       "      <th>7</th>\n",
       "      <td>3</td>\n",
       "      <td>ElasticNet</td>\n",
       "      <td>0.140627</td>\n",
       "    </tr>\n",
       "  </tbody>\n",
       "</table>\n",
       "</div>"
      ],
      "text/plain": [
       "   index             Model      RMSE\n",
       "0      1   RidgeRegression  0.056379\n",
       "1      0  LinearRegression  0.056392\n",
       "2      7      RandomForest  0.057691\n",
       "3      4               KNN  0.066404\n",
       "4      6               SVM  0.070339\n",
       "5      5     Decision Tree  0.078791\n",
       "6      2   LassoRegression  0.140627\n",
       "7      3        ElasticNet  0.140627"
      ]
     },
     "execution_count": 23,
     "metadata": {},
     "output_type": "execute_result"
    }
   ],
   "source": [
    "models = pd.DataFrame(model_,columns=['Model', 'RMSE'])\n",
    "models = models.sort_values(by=['RMSE'])\n",
    "models=models.reset_index()\n",
    "models"
   ]
  },
  {
   "cell_type": "code",
   "execution_count": 24,
   "metadata": {},
   "outputs": [
    {
     "data": {
      "text/plain": [
       "[Text(0, 0, 'RidgeRegression'),\n",
       " Text(0, 0, 'LinearRegression'),\n",
       " Text(0, 0, 'RandomForest'),\n",
       " Text(0, 0, 'KNN'),\n",
       " Text(0, 0, 'SVM'),\n",
       " Text(0, 0, 'Decision Tree'),\n",
       " Text(0, 0, 'LassoRegression'),\n",
       " Text(0, 0, 'ElasticNet')]"
      ]
     },
     "execution_count": 24,
     "metadata": {},
     "output_type": "execute_result"
    },
    {
     "data": {
      "image/png": "[encoded data removed]",
      "text/plain": [
       "<Figure size 432x288 with 1 Axes>"
      ]
     },
     "metadata": {
      "needs_background": "light"
     },
     "output_type": "display_data"
    }
   ],
   "source": [
    "ax = sns.barplot(x = models.Model, y = models.RMSE)\n",
    "ax.set_xticklabels(models.Model,rotation=75)"
   ]
  },
  {
   "cell_type": "code",
   "execution_count": 25,
   "metadata": {},
   "outputs": [],
   "source": [
    "# finalizing the model and testing on the test data\n",
    "final_model = ridge\n",
    "final_predictions = final_model.predict(X_test_scaled)\n",
    "final_mse = mean_squared_error(y_test, final_predictions)\n",
    "final_rmse = np.sqrt(final_mse)"
   ]
  },
  {
   "cell_type": "code",
   "execution_count": 26,
   "metadata": {},
   "outputs": [
    {
     "data": {
      "text/plain": [
       "0.05637897431746669"
      ]
     },
     "execution_count": 26,
     "metadata": {},
     "output_type": "execute_result"
    }
   ],
   "source": [
    "final_rmse"
   ]
  },
  {
   "cell_type": "code",
   "execution_count": 27,
   "metadata": {},
   "outputs": [],
   "source": [
    "def predict_chance_of_admit(config, model):\n",
    "    \n",
    "    if type(config) == dict:\n",
    "        df = pd.DataFrame(config)\n",
    "    else:\n",
    "        df = config\n",
    "    \n",
    "    scaled_df = sc.transform(df)\n",
    "    y_pred = model.predict(scaled_df)\n",
    "    return y_pred"
   ]
  },
  {
   "cell_type": "code",
   "execution_count": 28,
   "metadata": {},
   "outputs": [],
   "source": [
    "config={\n",
    "    'GRE Score' : [315,320],\n",
    "    'TOEFL Score' : [105,110],\n",
    "    'University Rating' : [4,4],\n",
    "    'SOP' : [4,3.5],\n",
    "    'LOR ' : [4,3],\n",
    "    'CGPA' : [9.5,9],\n",
    "    'Research' : [1,0]\n",
    "}"
   ]
  },
  {
   "cell_type": "code",
   "execution_count": 29,
   "metadata": {},
   "outputs": [
    {
     "data": {
      "text/plain": [
       "array([0.84829131, 0.76781761])"
      ]
     },
     "execution_count": 29,
     "metadata": {},
     "output_type": "execute_result"
    }
   ],
   "source": [
    "predict_chance_of_admit(config, final_model)"
   ]
  },
  {
   "cell_type": "markdown",
   "metadata": {},
   "source": [
    "### Saving the model"
   ]
  },
  {
   "cell_type": "code",
   "execution_count": 30,
   "metadata": {},
   "outputs": [],
   "source": [
    "import pickle"
   ]
  },
  {
   "cell_type": "code",
   "execution_count": 31,
   "metadata": {},
   "outputs": [],
   "source": [
    "##saving the model\n",
    "with open(\"model.bin\", 'wb') as f_out:\n",
    "    pickle.dump(final_model, f_out)\n",
    "    f_out.close()"
   ]
  },
  {
   "cell_type": "code",
   "execution_count": 32,
   "metadata": {},
   "outputs": [
    {
     "data": {
      "text/plain": [
       "array([0.84829131, 0.76781761])"
      ]
     },
     "execution_count": 32,
     "metadata": {},
     "output_type": "execute_result"
    }
   ],
   "source": [
    "##loading the model from the saved file\n",
    "with open('model.bin', 'rb') as f_in:\n",
    "    model = pickle.load(f_in)\n",
    "    \n",
    "predict_chance_of_admit(config, model)"
   ]
  },
  {
   "cell_type": "code",
   "execution_count": null,
   "metadata": {},
   "outputs": [],
   "source": []
  }
 ],
 "metadata": {
  "kernelspec": {
   "display_name": "Python 3",
   "language": "python",
   "name": "python3"
  },
  "language_info": {
   "codemirror_mode": {
    "name": "ipython",
    "version": 3
   },
   "file_extension": ".py",
   "mimetype": "text/x-python",
   "name": "python",
   "nbconvert_exporter": "python",
   "pygments_lexer": "ipython3",
   "version": "3.7.6"
  }
 },
 "nbformat": 4,
 "nbformat_minor": 4
}
